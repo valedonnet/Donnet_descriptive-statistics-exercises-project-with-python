{
  "nbformat": 4,
  "nbformat_minor": 0,
  "metadata": {
    "colab": {
      "provenance": [],
      "toc_visible": true
    },
    "kernelspec": {
      "name": "python3",
      "display_name": "Python 3"
    },
    "language_info": {
      "name": "python"
    }
  },
  "cells": [
    {
      "cell_type": "code",
      "source": [
        "import numpy as np\n",
        "mu=0\n",
        "sigma=0.1\n",
        "s = np.random.normal(mu, sigma, 1000)"
      ],
      "metadata": {
        "id": "EeniB0LCeE9s"
      },
      "execution_count": null,
      "outputs": []
    },
    {
      "cell_type": "code",
      "source": [
        "import matplotlib.pyplot as plt"
      ],
      "metadata": {
        "id": "qG3Y7tTHdmXB"
      },
      "execution_count": null,
      "outputs": []
    },
    {
      "cell_type": "code",
      "source": [
        "#Genera un histograma y superpone la función de densidad de probabilidad (PDF) de una distribución normal:\n",
        "\n",
        "count, bins, ignored= plt.hist(s, 30, density=True) #Aquí se especifica que queremos 30 barras (bins) en el histograma y density=True normaliza el histograma para que el área bajo el histograma sea igual a 1, lo que convierte las frecuencias en densidades de probabilidad\n",
        "plt.plot(bins, 1/(sigma * np.sqrt(2 * np.pi)) *\n",
        "               np.exp( - (bins - mu)**2 / (2 * sigma**2) ),\n",
        "         linewidth=2, color='r')\n",
        "plt.show()"
      ],
      "metadata": {
        "colab": {
          "base_uri": "https://localhost:8080/",
          "height": 430
        },
        "id": "_zDyYO5Xc-yR",
        "outputId": "63721ba4-345f-48eb-f615-5956b3f30dd6"
      },
      "execution_count": null,
      "outputs": [
        {
          "output_type": "display_data",
          "data": {
            "text/plain": [
              "<Figure size 640x480 with 1 Axes>"
            ],
            "image/png": "[encoded data removed]"
          },
          "metadata": {}
        }
      ]
    },
    {
      "cell_type": "code",
      "source": [
        "chi=np.random.chisquare(3,1000)"
      ],
      "metadata": {
        "id": "fVAQQTlxdU1l"
      },
      "execution_count": null,
      "outputs": []
    },
    {
      "cell_type": "code",
      "source": [
        "m=s.mean().round(3)\n",
        "t=s.std().round(3)\n",
        "print('The mean is',m, 'and the standart desviation', t )"
      ],
      "metadata": {
        "colab": {
          "base_uri": "https://localhost:8080/"
        },
        "id": "2jKRJO96dWFS",
        "outputId": "9c3d826a-98e6-4336-dafb-8684f4649732"
      },
      "execution_count": null,
      "outputs": [
        {
          "output_type": "stream",
          "name": "stdout",
          "text": [
            "The mean is 0.003 and the standart desviation 0.102\n"
          ]
        }
      ]
    },
    {
      "cell_type": "code",
      "source": [
        "mean = np.mean(chi)\n",
        "median = np.median(chi)\n",
        "variance = np.var(chi)\n",
        "sd = np.std(chi)\n",
        "print(mean, median, variance, sd)"
      ],
      "metadata": {
        "colab": {
          "base_uri": "https://localhost:8080/"
        },
        "id": "OuKLpsr_daY6",
        "outputId": "db2952fe-fb22-42f3-f3a4-0144ee73c847"
      },
      "execution_count": null,
      "outputs": [
        {
          "output_type": "stream",
          "name": "stdout",
          "text": [
            "2.893988078383976 2.28942258053606 5.781894417848011 2.4045570107294214\n"
          ]
        }
      ]
    },
    {
      "cell_type": "code",
      "execution_count": null,
      "metadata": {
        "id": "XA9TP9W_HNOV"
      },
      "outputs": [],
      "source": [
        "data=[5,20,8,3,17]\n",
        "#La media(promedio)\n",
        "def mean (x):\n",
        "  count=0\n",
        "  for i in x:\n",
        "    count=count+i\n",
        "  return (count/len(x))\n",
        "\n"
      ]
    },
    {
      "cell_type": "code",
      "source": [
        "#Mediana es el valor medio cuando un conjunto de datos se ordena de menor a mayor.\n",
        "#Moda es elnúmero que se presenta con más frecuencia se presenta en un conjunto de datos"
      ],
      "metadata": {
        "id": "xXnIbnm2JnuD"
      },
      "execution_count": null,
      "outputs": []
    },
    {
      "cell_type": "code",
      "source": [
        "mean(data)"
      ],
      "metadata": {
        "colab": {
          "base_uri": "https://localhost:8080/"
        },
        "id": "VNNnsEIFIex6",
        "outputId": "415c0961-a30a-4dcc-ebe8-1e1694049a20"
      },
      "execution_count": null,
      "outputs": [
        {
          "output_type": "execute_result",
          "data": {
            "text/plain": [
              "10.6"
            ]
          },
          "metadata": {},
          "execution_count": 13
        }
      ]
    },
    {
      "cell_type": "code",
      "source": [
        "import math"
      ],
      "metadata": {
        "id": "xllK9diiNizC"
      },
      "execution_count": null,
      "outputs": []
    },
    {
      "cell_type": "code",
      "source": [
        "#Medida estadistica que indica cuanto se alejan los datos individuales de la media. Si es una muestra\n",
        "\n",
        "def desvio_standar (x):\n",
        "  count1=0\n",
        "  for i in x:\n",
        "    cuadr=i-mean(x)** 2\n",
        "    count1=count1+abs(cuadr)\n",
        "  desv=math.sqrt(count1)/(len(x)-1)\n",
        "  return desv\n",
        "\n"
      ],
      "metadata": {
        "id": "WTtdLzDiIgnp"
      },
      "execution_count": null,
      "outputs": []
    },
    {
      "cell_type": "code",
      "source": [
        "desvio_standar(data)"
      ],
      "metadata": {
        "colab": {
          "base_uri": "https://localhost:8080/"
        },
        "id": "CSXob1YWPhTu",
        "outputId": "dfa2e0de-a9f4-4e3c-e5ae-fae5fdad593c"
      },
      "execution_count": null,
      "outputs": [
        {
          "output_type": "execute_result",
          "data": {
            "text/plain": [
              "5.639148871948674"
            ]
          },
          "metadata": {},
          "execution_count": 16
        }
      ]
    },
    {
      "cell_type": "code",
      "source": [
        "#Coeficiente de variación (Coeficiente de variación de Person): Nos permite comprar la dispersiòn de diferentes series de datos, independientemente de sus unidades de medida,\n",
        "#para ver cual es más estable o tiene menor variación.Coeficiente bao indica que los datos estan más uniformemente distribuidos\n",
        "\n",
        "def cv(x):\n",
        "  return desvio_standar(x)/(abs(mean(x)))"
      ],
      "metadata": {
        "id": "yWyHQnzBK87V"
      },
      "execution_count": null,
      "outputs": []
    },
    {
      "cell_type": "code",
      "source": [
        "cv(data)"
      ],
      "metadata": {
        "colab": {
          "base_uri": "https://localhost:8080/"
        },
        "id": "-h5u8_YdTPq0",
        "outputId": "13970dc9-0a23-425a-84cd-de9891e6d581"
      },
      "execution_count": null,
      "outputs": [
        {
          "output_type": "execute_result",
          "data": {
            "text/plain": [
              "0.5319951765989315"
            ]
          },
          "metadata": {},
          "execution_count": 18
        }
      ]
    }
  ]
}